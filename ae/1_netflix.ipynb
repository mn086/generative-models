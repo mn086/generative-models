{
  "cells": [
    {
      "cell_type": "markdown",
      "metadata": {
        "id": "HTT4KrIpvagC"
      },
      "source": [
        "**Wichtige Hinweise**\n",
        "\n",
        "- Aktivieren Sie die entsprechende Conda-Umgebung bevor Sie beginnen.\n",
        "\n",
        "- Geben Sie als `NAME` ihr HdM-Kürzel an.\n",
        "\n",
        "- Ändern Sie **nicht** den Namen der Datei und löschen Sie keine Zellen.\n",
        "\n",
        "- Bearbeiten Sie alle Zellen mit dem Hinweis <font color='green'> \\# YOUR CODE HERE </font>\n",
        "\n",
        "- Die Funktion **NotImplementedError()** soll die Abgabe von leeren Zellen verhindern. Löschen Sie die Funktion, sobald Sie in einer dieser Zellen arbeiten.\n",
        "\n",
        "- Stellen Sie sicher, dass alles wie erwartet läuft, bevor Sie die Prüfung abgeben: Starten Sie den Kernel neu und führen Sie alle Zellen aus: wählen Sie \"Restart\" und dann \"Run All\""
      ]
    },
    {
      "cell_type": "code",
      "execution_count": 1,
      "metadata": {
        "id": "TxvRta_wvagE"
      },
      "outputs": [],
      "source": [
        "NAME = \"mn086\""
      ]
    },
    {
      "cell_type": "code",
      "execution_count": 2,
      "metadata": {
        "id": "TEatF1RDvagF"
      },
      "outputs": [],
      "source": [
        "import IPython\n",
        "assert IPython.version_info[0] >= 3, \"Your version of IPython is too old, please update it.\""
      ]
    },
    {
      "cell_type": "markdown",
      "metadata": {
        "id": "ubv2mHkZvagG"
      },
      "source": [
        "---"
      ]
    },
    {
      "cell_type": "markdown",
      "metadata": {
        "id": "T1mMbz6MvagG"
      },
      "source": [
        "# Netflix user engagement analyse"
      ]
    },
    {
      "cell_type": "markdown",
      "metadata": {
        "id": "LTmKjOuyvagH"
      },
      "source": [
        "## Setup"
      ]
    },
    {
      "cell_type": "code",
      "execution_count": 3,
      "metadata": {
        "tags": [],
        "id": "AFn3Y6AgvagH"
      },
      "outputs": [],
      "source": [
        "# Wir importieren die Bibliothek pandas\n",
        "import pandas as pd"
      ]
    },
    {
      "cell_type": "markdown",
      "metadata": {
        "id": "kjHgvzzdvagI"
      },
      "source": [
        "---\n",
        "## Daten\n",
        "\n",
        "### Daten importieren (2 Punkte)\n",
        "\n",
        "- Wir haben Pandas mit der Bezeichnung `pd` importiert.\n",
        "\n",
        "- Die Pandas-Funktion zum Einlesen von CSV-Dateien: `.read_csv`\n",
        "\n",
        "- CSV-Daten mit Pandas importieren und mit der Bezeichnung `df` speichern.\n",
        "\n",
        "- Pfad zu den Daten in GitHub: 'https://raw.githubusercontent.com/kirenz/datasets/master/netflix.csv'\n",
        "\n",
        "\n",
        "- Hinweis:\n",
        "\n",
        "```python\n",
        "___ = ___.___(___)\n",
        "```"
      ]
    },
    {
      "cell_type": "code",
      "execution_count": 4,
      "metadata": {
        "deletable": false,
        "nbgrader": {
          "cell_type": "code",
          "checksum": "9db3ca972642b1447dba3ebd5f2db24b",
          "grade": false,
          "grade_id": "import",
          "locked": false,
          "schema_version": 3,
          "solution": true,
          "task": false
        },
        "tags": [],
        "id": "mqH-fOqWvagI"
      },
      "outputs": [],
      "source": [
        "df=pd.read_csv('https://raw.githubusercontent.com/kirenz/datasets/master/netflix.csv')"
      ]
    },
    {
      "cell_type": "code",
      "execution_count": 5,
      "metadata": {
        "deletable": false,
        "editable": false,
        "nbgrader": {
          "cell_type": "code",
          "checksum": "5b57079732c6166dea9ead30926b2249",
          "grade": true,
          "grade_id": "correct_import",
          "locked": true,
          "points": 2,
          "schema_version": 3,
          "solution": false,
          "task": false
        },
        "id": "ytxazMeIvagJ"
      },
      "outputs": [],
      "source": [
        "\"\"\"Check that df returns the correct output\"\"\"\n",
        "assert len(df) == 2000\n",
        "assert df.columns.tolist() == ['group', 'outcome']"
      ]
    },
    {
      "cell_type": "markdown",
      "metadata": {
        "id": "P_d60TFGvagK"
      },
      "source": [
        "---\n",
        "## Analyse\n",
        "\n",
        "### Kreuztabelle (4 Punkte)\n",
        "\n",
        "Schreiben Sie den Code, der eine Kreuztabelle erzeugt erzeugt:\n",
        "\n",
        "- Speichern Sie die Tabelle unter der Bezeichnung: `cross_table`\n",
        "- Die Funktion in Pandas zur Erzeugung von Kreuztabellen: `.crosstab(ZEILEN, SPALTEN)`\n",
        "- Als Zeilen diese Variable nutzen: `group`\n",
        "- Als Spalten diese Variable nutzen: `outcome`\n",
        "- Geben Sie die Spalten- und Zeilensummen aus (`margins=True`)\n",
        "- Geben Sie die Werte als Prozentwerte aus (`normalize=True`)\n",
        "- Die Variable `group` soll in der Tabelle \"Gruppe\" genannt werden (`rownames`)\n",
        "- Die Variable `outcome` soll in der Tabelle \"Ergebnis\" genannt werden (`colnames`)\n",
        "- Formatierung der Prozent-Werte mit Multiplikation: bspw. sollte ein Wert von 0.1775 als 17.75 angezeigt werden\n",
        "- Geben Sie die Tabelle aus\n",
        "\n",
        "- Hinweis:\n",
        "\n",
        "```python\n",
        "\n",
        "___ = __.__(df['___'], df['___'],\n",
        "            ___=True, # Spalten- und Zeilensumme\n",
        "            ___=True, # Prozentwerte\n",
        "            rownames=['___'],  # Umbenennung der Zeilen\n",
        "            colnames=['___'] # Umbenennung der Spalten\n",
        "            ) * ___ # Multiplikation mit 100 für eine bessere Darstellung der Prozentwerte\n",
        "\n",
        "___\n",
        "\n",
        "```"
      ]
    },
    {
      "cell_type": "code",
      "execution_count": null,
      "metadata": {
        "deletable": false,
        "nbgrader": {
          "cell_type": "code",
          "checksum": "0b953e4ca139974a11fde0daa61ba827",
          "grade": false,
          "grade_id": "cross_table",
          "locked": false,
          "schema_version": 3,
          "solution": true,
          "task": false
        },
        "tags": [],
        "id": "eKvHcC7AvagL"
      },
      "outputs": [],
      "source": [
        "# YOUR CODE HERE\n",
        "raise NotImplementedError()"
      ]
    },
    {
      "cell_type": "code",
      "execution_count": null,
      "metadata": {
        "deletable": false,
        "editable": false,
        "nbgrader": {
          "cell_type": "code",
          "checksum": "84ca0f043b5c2892c16ea9341166eda2",
          "grade": true,
          "grade_id": "correct_cross_table",
          "locked": true,
          "points": 4,
          "schema_version": 3,
          "solution": false,
          "task": false
        },
        "id": "TFNZ0rhgvagL"
      },
      "outputs": [],
      "source": [
        "\"\"\"Check that it returns the correct output\"\"\"\n",
        "assert cross_table['Engagement'].B == 21.8"
      ]
    }
  ],
  "metadata": {
    "kernelspec": {
      "display_name": "Python 3 (ipykernel)",
      "language": "python",
      "name": "python3"
    },
    "language_info": {
      "codemirror_mode": {
        "name": "ipython",
        "version": 3
      },
      "file_extension": ".py",
      "mimetype": "text/x-python",
      "name": "python",
      "nbconvert_exporter": "python",
      "pygments_lexer": "ipython3",
      "version": "3.9.12"
    },
    "vscode": {
      "interpreter": {
        "hash": "463226f144cc21b006ce6927bfc93dd00694e52c8bc6857abb6e555b983749e9"
      }
    },
    "colab": {
      "provenance": []
    }
  },
  "nbformat": 4,
  "nbformat_minor": 0
}